{
 "cells": [
  {
   "cell_type": "markdown",
   "id": "72044b3c-fcb8-4122-aa5a-00120315bf12",
   "metadata": {},
   "source": [
    "# Python Linear Regression"
   ]
  },
  {
   "cell_type": "markdown",
   "id": "83b333de-dba6-4cad-9f86-19a8a80383a5",
   "metadata": {},
   "source": [
    "## Import Pandas"
   ]
  },
  {
   "cell_type": "code",
   "execution_count": 1,
   "id": "1755f722-a2be-43e3-be54-e321b4489396",
   "metadata": {
    "tags": []
   },
   "outputs": [],
   "source": [
    "import pandas as pd"
   ]
  },
  {
   "cell_type": "markdown",
   "id": "e99e73dc-c8b5-42c0-a13f-fbe4c67bb2d5",
   "metadata": {
    "tags": []
   },
   "source": [
    "## Set Variables (Import csv)"
   ]
  },
  {
   "cell_type": "code",
   "execution_count": 3,
   "id": "afa109bf-9e42-4152-9881-3616db22fc85",
   "metadata": {
    "tags": []
   },
   "outputs": [],
   "source": [
    "filename= \"regrex1.csv\""
   ]
  },
  {
   "cell_type": "markdown",
   "id": "fac6d564-ef86-4117-bd91-4fea368edac3",
   "metadata": {},
   "source": [
    "## Use read_csv() to read regrex1.csv file"
   ]
  },
  {
   "cell_type": "code",
   "execution_count": 4,
   "id": "e7a3d7b7-3d81-44e0-9670-bed64d92e010",
   "metadata": {
    "tags": []
   },
   "outputs": [],
   "source": [
    "dataset = pd.read_csv(filename)"
   ]
  },
  {
   "cell_type": "code",
   "execution_count": null,
   "id": "81a0d3ca-458b-44a2-b09e-198c33ebcdea",
   "metadata": {},
   "outputs": [],
   "source": []
  }
 ],
 "metadata": {
  "kernelspec": {
   "display_name": "Python 3 (ipykernel)",
   "language": "python",
   "name": "python3"
  },
  "language_info": {
   "codemirror_mode": {
    "name": "ipython",
    "version": 3
   },
   "file_extension": ".py",
   "mimetype": "text/x-python",
   "name": "python",
   "nbconvert_exporter": "python",
   "pygments_lexer": "ipython3",
   "version": "3.11.4"
  }
 },
 "nbformat": 4,
 "nbformat_minor": 5
}
